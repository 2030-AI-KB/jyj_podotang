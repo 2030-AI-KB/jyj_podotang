{
 "cells": [
  {
   "cell_type": "code",
   "execution_count": null,
   "metadata": {},
   "outputs": [],
   "source": [
    "zero=[]\n",
    "one=[]\n",
    "for i in range(20):\n",
    "    j=int(input(\"숫자를 입력하세요.\"))\n",
    "    if j % 2 == 0:\n",
    "        zero.append(j)\n",
    "    else:\n",
    "        one.append(j)\n",
    "a=sum(zero)\n",
    "b=sum(one)\n",
    "\n",
    "print(\"짝수의 합입니다 : \",a)\n",
    "print(\"홀수의 합입니다 : \",b)\n",
    "print(\"짝수의 합이 더 큰가요?\",a>b)"
   ]
  },
  {
   "cell_type": "code",
   "execution_count": null,
   "metadata": {},
   "outputs": [],
   "source": [
    "#Mission_4. 아래의 코드를 보고 입력받은 5개의 성적을 기준을 작성하여 코드를 완성해주세요..\n",
    "#           단, 아래의 코드는 변경이 불가능합니다.\n",
    "mx_index = scores.index(mx_score) + 1\n",
    "min_index = scores.index(min_score) + 1\n",
    "print( \"입력한 성적중 \"+ str(mx_index) + \"번째 점수가 가장 높은 \"+ str(mx_score) + \"입니다.\")\n",
    "print( \"입력한 성적중 \"+ str(min_index) + \"번째 점수가 가장 낮은 \"+ str(min_score) + \"입니다.\")\n",
    "# 입력한 성적중 #번째 점수가 가장 높은 #점입니다.\n",
    "\n"
   ]
  },
  {
   "cell_type": "code",
   "execution_count": 33,
   "metadata": {},
   "outputs": [
    {
     "name": "stdout",
     "output_type": "stream",
     "text": [
      "['Fuck', 'you', 'and', 'your', 'mom', 'and', 'your', 'sister', 'and', 'your', 'job', 'and', 'your', 'broke', 'ass', 'car', 'and', 'that', 'shit', 'you', 'call', 'art', 'fuck', 'you', 'And', 'your', 'friends', 'that', \"i'll\", 'never', 'see', 'again', 'everybody', 'but', 'your', 'dog', 'you', 'can', 'all', 'FUCK', 'OFF', 'i', 'swear', 'i', 'meant', 'to', 'mean', 'the', 'best', 'when', 'it', 'ended', 'even', 'try', 'to', 'bite', 'my', 'tongue', 'when', 'you', 'start', 'shit', 'now', \"you're\", 'texting', 'all', 'my', 'friends', 'asking', 'questions', 'hey', 'never', 'even', 'liked', 'you', 'in', 'the', 'first', 'place']\n"
     ]
    }
   ],
   "source": [
    "#Mission_5. 아래의 Song의 내용을 분석할 수 있는 코드를 작성하여 정략적 수치를 통해 의견을 작성해주세요..\n",
    "# [의견 작성]\n",
    "#\n",
    "song = \"\"\"Fuck you and your mom and your sister and your job and your broke ass car and that shit you call art\n",
    "       fuck you And your friends that i'll never see again everybody but your dog you can all FUCK OFF i swear i meant to mean the best when it ended even try to bite my tongue when you start shit\n",
    "       now you're texting all my friends asking questions hey never even liked you in the first place\"\"\"\n",
    "\n",
    "song_line= song.split()\n",
    "print(song_line)\n",
    "'song_line'.count()"
   ]
  },
  {
   "cell_type": "code",
   "execution_count": null,
   "metadata": {},
   "outputs": [],
   "source": []
  }
 ],
 "metadata": {
  "kernelspec": {
   "display_name": "Python 3",
   "language": "python",
   "name": "python3"
  },
  "language_info": {
   "codemirror_mode": {
    "name": "ipython",
    "version": 3
   },
   "file_extension": ".py",
   "mimetype": "text/x-python",
   "name": "python",
   "nbconvert_exporter": "python",
   "pygments_lexer": "ipython3",
   "version": "3.11.3"
  },
  "orig_nbformat": 4
 },
 "nbformat": 4,
 "nbformat_minor": 2
}
