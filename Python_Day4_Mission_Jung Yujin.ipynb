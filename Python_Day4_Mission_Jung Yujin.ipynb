{
 "cells": [
  {
   "cell_type": "code",
   "execution_count": null,
   "metadata": {},
   "outputs": [],
   "source": [
    "#Missoin_1.  구구단프로그램을 작성해주세요. 단을 입력하면 입력받은 단까지 모두 출력해주세요.\n",
    "a= int(input(\"몇단의 구구단을 보시겠습니까? \"))\n",
    "for i in range(2,10):   # 단의 범위지정\n",
    "    for j in range(1,10):  #곱할값 범위 지정\n",
    "        if a == i:  # 입력ㄷ은 숫자가 단의 수랑 같을때만 출력\n",
    "            print(f'{a} X {j} = { a*j}')"
   ]
  },
  {
   "cell_type": "code",
   "execution_count": null,
   "metadata": {},
   "outputs": [],
   "source": [
    "###### Missoin_2.  20개의 정수를 입력 받아서 짝수와 홀수를 구분하여 저장해주세요. \n",
    "#           저장된 수의 총합이 얼마인지와 짝수의 합이 큰지 홀수의 합이 큰지를 알려주는 코드를 작성해주세요 \n",
    "zero=[]\n",
    "one=[]\n",
    "for i in range(20)   # 입력받을 정수 \n",
    "    j=int(input(\"숫자를 입력하세요.\"))\n",
    "    if j % 2 == 0:  # j가 짝수일 경우\n",
    "        zero.append(j)  #데이터 추가한다\n",
    "    else:\n",
    "        one.append(j)  # j가 홀수일때 데이터 추가한다\n",
    "a=sum(zero)  \n",
    "b=sum(one)  \n",
    "\n",
    "print(\"짝수의 합입니다 : \",a)\n",
    "print(\"홀수의 합입니다 : \",b)\n",
    "print(\"짝수의 합이 더 큰가요?\",a>b)"
   ]
  },
  {
   "cell_type": "code",
   "execution_count": null,
   "metadata": {},
   "outputs": [],
   "source": [
    "#Mission_5. 아래의 Song의 내용을 분석할 수 있는 코드를 작성하여 정략적 수치를 통해 의견을 작성해주세요..\n",
    "# [의견 작성]\n",
    "# https://infinitt.tistory.com/78 이곳을 참조하였습니다.\n",
    "song = \"\"\"Fuck you and your mom and your sister and your job and your broke ass car and that shit you call art\n",
    "       fuck you And your friends that i'll never see again everybody but your dog you can all FUCK OFF i swear i meant to mean the best when it ended even try to bite my tongue when you start shit\n",
    "       now you're texting all my friends asking questions hey never even liked you in the first place\"\"\"\n",
    "\n",
    "song_line= song.split()\n",
    "count={}\n",
    "for i in song_line:\n",
    "    try: count[i] += 1\n",
    "    except: count[i] = 1\n",
    "print(count)\n"
   ]
  },
  {
   "cell_type": "code",
   "execution_count": null,
   "metadata": {},
   "outputs": [],
   "source": [
    "#Mission_10. 커피 자판기의 계산프로그램을 만들려고 합니다.(최대 15잔을 뽑을 수 있어요. 잔당 200원)\n",
    "#            돈을 값을 입력 받으면 커피를 뽑을 수 있는 잔수와 잔액을 알려주시면 됩니다. \n",
    "coffee=200\n",
    "my_money=int(input(\"가진돈을 입력하세요 : \"))\n",
    "i=my_money/coffee\n",
    "j=my_money%coffee\n",
    "if i < 16 :  # 뽑기 횟수 16미만제한\n",
    "    print(\"커피를 뽑을 수 있는 횟수입니다. \",int(i))\n",
    "    print(\"잔돈입니다. \",int(j))\n",
    "else:\n",
    "    print(\"그만 뽑으세요\")"
   ]
  }
 ],
 "metadata": {
  "language_info": {
   "name": "python"
  },
  "orig_nbformat": 4
 },
 "nbformat": 4,
 "nbformat_minor": 2
}
